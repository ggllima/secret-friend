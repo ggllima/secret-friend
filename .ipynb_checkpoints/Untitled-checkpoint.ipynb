{
 "cells": [
  {
   "cell_type": "code",
   "execution_count": 1,
   "id": "painful-activity",
   "metadata": {},
   "outputs": [
    {
     "ename": "SyntaxError",
     "evalue": "EOF while scanning triple-quoted string literal (messages.py, line 207)",
     "output_type": "error",
     "traceback": [
      "Traceback \u001b[1;36m(most recent call last)\u001b[0m:\n",
      "  File \u001b[0;32m~\\Documents\\Projetos\\env_data\\lib\\site-packages\\IPython\\core\\interactiveshell.py:3251\u001b[0m in \u001b[0;35mrun_code\u001b[0m\n    exec(code_obj, self.user_global_ns, self.user_ns)\n",
      "\u001b[1;36m  Input \u001b[1;32mIn [1]\u001b[1;36m in \u001b[1;35m<module>\u001b[1;36m\u001b[0m\n\u001b[1;33m    from messages.messages import messages\u001b[0m\n",
      "\u001b[1;36m  File \u001b[1;32m~\\Documents\\Projetos\\secret-friend\\messages\\messages.py:207\u001b[1;36m\u001b[0m\n\u001b[1;33m    <img alt=\"Footer\" height=\"auto\" src=\"https://raw.githubusercontent.com/ggllima/secret-friend/main/img/isabelle-footer.jpg\" style=\"border:none;display:block;outline:none;text-decoration:none;height:15%;width:15%;font-size:13px;\" width=\"30\" />}\u001b[0m\n\u001b[1;37m                                                                                                                                                                                                                                                      \n^\u001b[0m\n\u001b[1;31mSyntaxError\u001b[0m\u001b[1;31m:\u001b[0m EOF while scanning triple-quoted string literal\n"
     ]
    }
   ],
   "source": [
    "from generate_email import send_email\n",
    "from config_email import connection_email, host, port, login, password\n",
    "from messages.messages import messages\n",
    "import random\n",
    "\n",
    "emails = {'Esther':'estherlira12@yahoo.com',\n",
    "          'Guilherme':'guilhermelima.rp@gmail.com',\n",
    "          'Bianca':'biancagoferrao@gmail.com',\n",
    "          'Kenzo':'kenzomelowaki@gmail.com',\n",
    "          'Luis':'timoteootavioluis@gmail.com',\n",
    "          'Maria':'maria@gmail.com',\n",
    "          'Heloisa': 'heloisa@gmail.com',\n",
    "          'Giovana': \"giovana@gmail.com\",\n",
    "          'Roberta':'roberta.moraes@estudante.ufscar.br',\n",
    "          'Matheus':'martinsgomes.cso19@gmail.com',\n",
    "          'Isabelle':'Isabelledomingues150@gmail.com',\n",
    "          'Salsinha':\"salsinha@gmail.com\"}\n",
    "\n",
    "forbidden = [('Heloisa', 'Rachel'), ('Giovana', 'Bianca'), ('Giovana', 'Rachel'), \n",
    "     ('Bianca', 'Isabelle'), ('Bianca', 'Maria'), ('Bianca','Giovana'), ('Isabelle', 'Maria'), \n",
    "     ('Isabelle', 'Bianca'), ('Isabelle', 'Rachel'), ('Maria', 'Bianca'), ('Maria', 'Isabelle'), \n",
    "     ('Maria', 'Rachel'), ('Rachel', 'Maria'), ('Rachel', 'Isabelle'), ('Rachel', 'Heloisa'),\n",
    "     ('Rachel', 'Matheus'), ('Rachel', 'Giovana')]\n",
    "\n",
    "count = 1\n",
    "lista_fixa_amigos = {}\n",
    "for person in emails:\n",
    "    lista_fixa_amigos[person] = count\n",
    "    count+=1\n",
    "\n",
    "lista_de_sorteio = list(emails.keys())\n",
    "\n",
    "dict_sorteio = {}\n",
    "for amigo in lista_fixa_amigos:\n",
    "    flag_repeat = False\n",
    "    \n",
    "    while flag_repeat == False:\n",
    "        amigo_secreto = random.choice(lista_de_sorteio)\n",
    "        if lista_fixa_amigos[amigo] != lista_fixa_amigos[amigo_secreto] and (amigo,amigo_secreto) not in forbidden:\n",
    "            flag_repeat = True\n",
    "        else:\n",
    "            flag_repeat = False\n",
    "            \n",
    "        \n",
    "    lista_de_sorteio.remove(amigo_secreto)\n",
    "    dict_sorteio.update({amigo:amigo_secreto})\n",
    "\n",
    "\n",
    "for person in ['guilhermelima.rp@gmail.com']:\n",
    "    server = connection_email(host, port, login, password)\n",
    "    final_message = messages[person].format(dict_sorteio[person])\n",
    "    send_email(server, login, 'guilhermelima.rp@gmail.com', \"CONVITE PARA AMIGO SECRETO TUDO EM CAPS LOCK FODA-SE\",final_message)\n",
    "\n"
   ]
  },
  {
   "cell_type": "code",
   "execution_count": null,
   "id": "municipal-schedule",
   "metadata": {},
   "outputs": [],
   "source": [
    "dict_sorteio['Guilherme']"
   ]
  },
  {
   "cell_type": "code",
   "execution_count": null,
   "id": "chicken-letter",
   "metadata": {},
   "outputs": [],
   "source": []
  }
 ],
 "metadata": {
  "kernelspec": {
   "display_name": "env_data",
   "language": "python",
   "name": "env_data"
  },
  "language_info": {
   "codemirror_mode": {
    "name": "ipython",
    "version": 3
   },
   "file_extension": ".py",
   "mimetype": "text/x-python",
   "name": "python",
   "nbconvert_exporter": "python",
   "pygments_lexer": "ipython3",
   "version": "3.8.5"
  }
 },
 "nbformat": 4,
 "nbformat_minor": 5
}
