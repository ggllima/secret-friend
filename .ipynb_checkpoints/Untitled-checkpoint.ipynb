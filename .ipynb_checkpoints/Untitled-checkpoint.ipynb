{
 "cells": [
  {
   "cell_type": "code",
   "execution_count": 1,
   "id": "apart-silly",
   "metadata": {},
   "outputs": [
    {
     "name": "stdout",
     "output_type": "stream",
     "text": [
      "Login success\n",
      "Login success\n",
      "Login success\n"
     ]
    },
    {
     "ename": "KeyboardInterrupt",
     "evalue": "",
     "output_type": "error",
     "traceback": [
      "\u001b[1;31m---------------------------------------------------------------------------\u001b[0m",
      "\u001b[1;31mKeyboardInterrupt\u001b[0m                         Traceback (most recent call last)",
      "Input \u001b[1;32mIn [1]\u001b[0m, in \u001b[0;36m<module>\u001b[1;34m\u001b[0m\n\u001b[0;32m     46\u001b[0m     dict_sorteio\u001b[38;5;241m.\u001b[39mupdate({amigo:amigo_secreto})\n\u001b[0;32m     49\u001b[0m \u001b[38;5;28;01mfor\u001b[39;00m person \u001b[38;5;129;01min\u001b[39;00m emails:\n\u001b[1;32m---> 50\u001b[0m     server \u001b[38;5;241m=\u001b[39m \u001b[43mconnection_email\u001b[49m\u001b[43m(\u001b[49m\u001b[43mhost\u001b[49m\u001b[43m,\u001b[49m\u001b[43m \u001b[49m\u001b[43mport\u001b[49m\u001b[43m,\u001b[49m\u001b[43m \u001b[49m\u001b[43mlogin\u001b[49m\u001b[43m,\u001b[49m\u001b[43m \u001b[49m\u001b[43mpassword\u001b[49m\u001b[43m)\u001b[49m\n\u001b[0;32m     51\u001b[0m     final_message \u001b[38;5;241m=\u001b[39m messages[person]\u001b[38;5;241m.\u001b[39mformat(dict_sorteio[person])\n\u001b[0;32m     52\u001b[0m     send_email(server, login, [\u001b[38;5;124m'\u001b[39m\u001b[38;5;124mguilhermelima.rp@gmail.com\u001b[39m\u001b[38;5;124m'\u001b[39m], \u001b[38;5;124m\"\u001b[39m\u001b[38;5;124mCONVITE PARA AMIGO SECRETO TUDO EM CAPS LOCK FODA-SE\u001b[39m\u001b[38;5;124m\"\u001b[39m,final_message)\n",
      "File \u001b[1;32m~\\Documents\\Projetos\\secret-friend\\config_email.py:15\u001b[0m, in \u001b[0;36mconnection_email\u001b[1;34m(host, port, login, password)\u001b[0m\n\u001b[0;32m     14\u001b[0m \u001b[38;5;28;01mdef\u001b[39;00m \u001b[38;5;21mconnection_email\u001b[39m(host, port, login, password):\n\u001b[1;32m---> 15\u001b[0m     server \u001b[38;5;241m=\u001b[39m \u001b[43msmtplib\u001b[49m\u001b[38;5;241;43m.\u001b[39;49m\u001b[43mSMTP\u001b[49m\u001b[43m(\u001b[49m\u001b[43mhost\u001b[49m\u001b[43m,\u001b[49m\u001b[43m \u001b[49m\u001b[43mport\u001b[49m\u001b[43m)\u001b[49m\n\u001b[0;32m     17\u001b[0m     server\u001b[38;5;241m.\u001b[39mehlo()\n\u001b[0;32m     18\u001b[0m     server\u001b[38;5;241m.\u001b[39mstarttls()\n",
      "File \u001b[1;32mc:\\users\\guilh\\appdata\\local\\programs\\python\\python38-32\\lib\\smtplib.py:263\u001b[0m, in \u001b[0;36mSMTP.__init__\u001b[1;34m(self, host, port, local_hostname, timeout, source_address)\u001b[0m\n\u001b[0;32m    258\u001b[0m     \u001b[38;5;28mself\u001b[39m\u001b[38;5;241m.\u001b[39mlocal_hostname \u001b[38;5;241m=\u001b[39m local_hostname\n\u001b[0;32m    259\u001b[0m \u001b[38;5;28;01melse\u001b[39;00m:\n\u001b[0;32m    260\u001b[0m     \u001b[38;5;66;03m# RFC 2821 says we should use the fqdn in the EHLO/HELO verb, and\u001b[39;00m\n\u001b[0;32m    261\u001b[0m     \u001b[38;5;66;03m# if that can't be calculated, that we should use a domain literal\u001b[39;00m\n\u001b[0;32m    262\u001b[0m     \u001b[38;5;66;03m# instead (essentially an encoded IP address like [A.B.C.D]).\u001b[39;00m\n\u001b[1;32m--> 263\u001b[0m     fqdn \u001b[38;5;241m=\u001b[39m \u001b[43msocket\u001b[49m\u001b[38;5;241;43m.\u001b[39;49m\u001b[43mgetfqdn\u001b[49m\u001b[43m(\u001b[49m\u001b[43m)\u001b[49m\n\u001b[0;32m    264\u001b[0m     \u001b[38;5;28;01mif\u001b[39;00m \u001b[38;5;124m'\u001b[39m\u001b[38;5;124m.\u001b[39m\u001b[38;5;124m'\u001b[39m \u001b[38;5;129;01min\u001b[39;00m fqdn:\n\u001b[0;32m    265\u001b[0m         \u001b[38;5;28mself\u001b[39m\u001b[38;5;241m.\u001b[39mlocal_hostname \u001b[38;5;241m=\u001b[39m fqdn\n",
      "File \u001b[1;32mc:\\users\\guilh\\appdata\\local\\programs\\python\\python38-32\\lib\\socket.py:756\u001b[0m, in \u001b[0;36mgetfqdn\u001b[1;34m(name)\u001b[0m\n\u001b[0;32m    754\u001b[0m     name \u001b[38;5;241m=\u001b[39m gethostname()\n\u001b[0;32m    755\u001b[0m \u001b[38;5;28;01mtry\u001b[39;00m:\n\u001b[1;32m--> 756\u001b[0m     hostname, aliases, ipaddrs \u001b[38;5;241m=\u001b[39m \u001b[43mgethostbyaddr\u001b[49m\u001b[43m(\u001b[49m\u001b[43mname\u001b[49m\u001b[43m)\u001b[49m\n\u001b[0;32m    757\u001b[0m \u001b[38;5;28;01mexcept\u001b[39;00m error:\n\u001b[0;32m    758\u001b[0m     \u001b[38;5;28;01mpass\u001b[39;00m\n",
      "\u001b[1;31mKeyboardInterrupt\u001b[0m: "
     ]
    }
   ],
   "source": [
    "from generate_email import send_email\n",
    "from config_email import connection_email, host, port, login, password\n",
    "from messages.messages import messages\n",
    "import random\n",
    "\n",
    "emails = {'Esther':'estherlira12@yahoo.com',\n",
    "          'Guilherme':'guilhermelima.rp@gmail.com',\n",
    "          'Bianca':'biancagoferrao@gmail.com',\n",
    "          'Kenzo':'kenzomelowaki@gmail.com',\n",
    "          'Luis':'timoteootavioluis@gmail.com',\n",
    "          'Maria':'maria@gmail.com',\n",
    "          'Heloisa': 'heloisa_ari7@usp.br',\n",
    "          'Giovanna': \"gimasiero@hotmail.com\",\n",
    "          'Roberta':'roberta.moraes@estudante.ufscar.br',\n",
    "          'Matheus':'martinsgomes.cso19@gmail.com',\n",
    "          'Isabelle':'isabelledomingues150@gmail.com',\n",
    "          'Salsinha':\"guilhermelima.rp@gmail.com\"}\n",
    "\n",
    "forbidden = [('Heloisa', 'Roberta'), ('Giovana', 'Bianca'), ('Giovana', 'Roberta'), \n",
    "     ('Bianca', 'Isabelle'), ('Bianca', 'Maria'), ('Bianca','Giovana'), ('Isabelle', 'Maria'), \n",
    "     ('Isabelle', 'Bianca'), ('Isabelle', 'Roberta'), ('Maria', 'Bianca'), ('Maria', 'Isabelle'), \n",
    "     ('Maria', 'Roberta'), ('Roberta', 'Maria'), ('Roberta', 'Isabelle'), ('Roberta', 'Heloisa'),\n",
    "     ('Roberta', 'Matheus'), ('Roberta', 'Giovana')]\n",
    "\n",
    "count = 1\n",
    "lista_fixa_amigos = {}\n",
    "for person in emails:\n",
    "    lista_fixa_amigos[person] = count\n",
    "    count+=1\n",
    "\n",
    "lista_de_sorteio = list(emails.keys())\n",
    "\n",
    "dict_sorteio = {}\n",
    "for amigo in lista_fixa_amigos:\n",
    "    flag_repeat = False\n",
    "    \n",
    "    while flag_repeat == False:\n",
    "        amigo_secreto = random.choice(lista_de_sorteio)\n",
    "        if lista_fixa_amigos[amigo] != lista_fixa_amigos[amigo_secreto] and (amigo,amigo_secreto) not in forbidden:\n",
    "            flag_repeat = True\n",
    "        else:\n",
    "            flag_repeat = False\n",
    "            \n",
    "        \n",
    "    lista_de_sorteio.remove(amigo_secreto)\n",
    "    dict_sorteio.update({amigo:amigo_secreto})\n",
    "\n",
    "\n",
    "for person in emails:\n",
    "    server = connection_email(host, port, login, password)\n",
    "    final_message = messages[person].format(dict_sorteio[person])\n",
    "    send_email(server, login, ['guilhermelima.rp@gmail.com'], \"CONVITE PARA AMIGO SECRETO TUDO EM CAPS LOCK FODA-SE\",final_message)\n"
   ]
  },
  {
   "cell_type": "code",
   "execution_count": null,
   "id": "blocked-toddler",
   "metadata": {},
   "outputs": [],
   "source": [
    "dict_sorteio['Guilherme']"
   ]
  },
  {
   "cell_type": "code",
   "execution_count": 2,
   "id": "declared-communications",
   "metadata": {},
   "outputs": [
    {
     "name": "stdout",
     "output_type": "stream",
     "text": [
      "estherlira12@yahoo.com\n",
      "guilhermelima.rp@gmail.com\n",
      "biancagoferrao@gmail.com\n",
      "kenzomelowaki@gmail.com\n",
      "timoteootavioluis@gmail.com\n",
      "maria@gmail.com\n",
      "heloisa_ari7@usp.br\n",
      "gimasiero@hotmail.com\n",
      "roberta.moraes@estudante.ufscar.br\n",
      "martinsgomes.cso19@gmail.com\n",
      "isabelledomingues150@gmail.com\n",
      "guilhermelima.rp@gmail.com\n"
     ]
    }
   ],
   "source": [
    "for email in emails:\n",
    "    print(emails[email])"
   ]
  },
  {
   "cell_type": "code",
   "execution_count": null,
   "id": "multiple-graduate",
   "metadata": {},
   "outputs": [],
   "source": []
  }
 ],
 "metadata": {
  "kernelspec": {
   "display_name": "env_data",
   "language": "python",
   "name": "env_data"
  },
  "language_info": {
   "codemirror_mode": {
    "name": "ipython",
    "version": 3
   },
   "file_extension": ".py",
   "mimetype": "text/x-python",
   "name": "python",
   "nbconvert_exporter": "python",
   "pygments_lexer": "ipython3",
   "version": "3.8.5"
  }
 },
 "nbformat": 4,
 "nbformat_minor": 5
}
