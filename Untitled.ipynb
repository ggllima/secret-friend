{
 "cells": [
  {
   "cell_type": "code",
   "execution_count": null,
   "id": "balanced-pendant",
   "metadata": {},
   "outputs": [
    {
     "name": "stdout",
     "output_type": "stream",
     "text": [
      "Login success\n"
     ]
    }
   ],
   "source": [
    "from generate_email import send_email\n",
    "from config_email import connection_email, host, port, login, password\n",
    "from messages.messages import messages\n",
    "import random\n",
    "\n",
    "emails = {'Esther':'estherlira12@yahoo.com',\n",
    "          'Guilherme':'guilhermelima.rp@gmail.com',\n",
    "          'Bianca':'biancagoferrao@gmail.com',\n",
    "          'Kenzo':'kenzomelowaki@gmail.com',\n",
    "          'Luis':'timoteootavioluis@gmail.com',\n",
    "          'Maria':'maria@gmail.com',\n",
    "          'Heloisa': 'heloisa_ari7@usp.br',\n",
    "          'Giovanna': \"gimasiero@hotmail.com\",\n",
    "          'Roberta':'roberta.moraes@estudante.ufscar.br',\n",
    "          'Matheus':'martinsgomes.cso19@gmail.com',\n",
    "          'Isabelle':'isabelledomingues150@gmail.com',\n",
    "          'Salsinha':\"guilhermelima.rp@gmail.com\"}\n",
    "\n",
    "forbidden = [('Heloisa', 'Roberta'), ('Giovana', 'Bianca'), ('Giovana', 'Roberta'), \n",
    "     ('Bianca', 'Isabelle'), ('Bianca', 'Maria'), ('Bianca','Giovana'), ('Isabelle', 'Maria'), \n",
    "     ('Isabelle', 'Bianca'), ('Isabelle', 'Roberta'), ('Maria', 'Bianca'), ('Maria', 'Isabelle'), \n",
    "     ('Maria', 'Roberta'), ('Roberta', 'Maria'), ('Roberta', 'Isabelle'), ('Roberta', 'Heloisa'),\n",
    "     ('Roberta', 'Matheus'), ('Roberta', 'Giovana')]\n",
    "\n",
    "count = 1\n",
    "lista_fixa_amigos = {}\n",
    "for person in emails:\n",
    "    lista_fixa_amigos[person] = count\n",
    "    count+=1\n",
    "\n",
    "lista_de_sorteio = list(emails.keys())\n",
    "\n",
    "dict_sorteio = {}\n",
    "for amigo in lista_fixa_amigos:\n",
    "    flag_repeat = False\n",
    "    \n",
    "    while flag_repeat == False:\n",
    "        amigo_secreto = random.choice(lista_de_sorteio)\n",
    "        if lista_fixa_amigos[amigo] != lista_fixa_amigos[amigo_secreto] and (amigo,amigo_secreto) not in forbidden:\n",
    "            flag_repeat = True\n",
    "        else:\n",
    "            flag_repeat = False\n",
    "            \n",
    "        \n",
    "    lista_de_sorteio.remove(amigo_secreto)\n",
    "    dict_sorteio.update({amigo:amigo_secreto})\n",
    "\n",
    "\n",
    "for person in emails:\n",
    "    server = connection_email(host, port, login, password)\n",
    "    final_message = messages[person].format(dict_sorteio[person],dict_sorteio[person])\n",
    "    send_email(server, login, ['guilhermelima.rp@gmail.com'], \"CONVITE PARA AMIGO SECRETO TUDO EM CAPS LOCK FODA-SE\",final_message)\n"
   ]
  },
  {
   "cell_type": "code",
   "execution_count": 2,
   "id": "trying-maintenance",
   "metadata": {},
   "outputs": [
    {
     "data": {
      "text/plain": [
       "'Matheus'"
      ]
     },
     "execution_count": 2,
     "metadata": {},
     "output_type": "execute_result"
    }
   ],
   "source": [
    "dict_sorteio['Guilherme']"
   ]
  },
  {
   "cell_type": "code",
   "execution_count": null,
   "id": "excessive-brazil",
   "metadata": {},
   "outputs": [],
   "source": []
  }
 ],
 "metadata": {
  "kernelspec": {
   "display_name": "env_data",
   "language": "python",
   "name": "env_data"
  },
  "language_info": {
   "codemirror_mode": {
    "name": "ipython",
    "version": 3
   },
   "file_extension": ".py",
   "mimetype": "text/x-python",
   "name": "python",
   "nbconvert_exporter": "python",
   "pygments_lexer": "ipython3",
   "version": "3.8.5"
  }
 },
 "nbformat": 4,
 "nbformat_minor": 5
}
