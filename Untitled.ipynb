{
 "cells": [
  {
   "cell_type": "code",
   "execution_count": 3,
   "id": "rotary-scheme",
   "metadata": {},
   "outputs": [
    {
     "name": "stdout",
     "output_type": "stream",
     "text": [
      "Login success\n",
      "Login success\n",
      "Login success\n",
      "Login success\n",
      "Login success\n",
      "Login success\n",
      "Login success\n",
      "Login success\n"
     ]
    },
    {
     "ename": "KeyError",
     "evalue": "'Giovana'",
     "output_type": "error",
     "traceback": [
      "\u001b[1;31m---------------------------------------------------------------------------\u001b[0m",
      "\u001b[1;31mKeyError\u001b[0m                                  Traceback (most recent call last)",
      "Input \u001b[1;32mIn [3]\u001b[0m, in \u001b[0;36m<module>\u001b[1;34m\u001b[0m\n\u001b[0;32m     49\u001b[0m \u001b[38;5;28;01mfor\u001b[39;00m person \u001b[38;5;129;01min\u001b[39;00m emails:\n\u001b[0;32m     50\u001b[0m     server \u001b[38;5;241m=\u001b[39m connection_email(host, port, login, password)\n\u001b[1;32m---> 51\u001b[0m     final_message \u001b[38;5;241m=\u001b[39m \u001b[43mmessages\u001b[49m\u001b[43m[\u001b[49m\u001b[43mperson\u001b[49m\u001b[43m]\u001b[49m\u001b[38;5;241m.\u001b[39mformat(dict_sorteio[person])\n\u001b[0;32m     52\u001b[0m     send_email(server, login, [\u001b[38;5;124m'\u001b[39m\u001b[38;5;124mguilhermelima.rp@gmail.com\u001b[39m\u001b[38;5;124m'\u001b[39m], \u001b[38;5;124m\"\u001b[39m\u001b[38;5;124mCONVITE PARA AMIGO SECRETO TUDO EM CAPS LOCK FODA-SE\u001b[39m\u001b[38;5;124m\"\u001b[39m,final_message)\n",
      "\u001b[1;31mKeyError\u001b[0m: 'Giovana'"
     ]
    }
   ],
   "source": [
    "from generate_email import send_email\n",
    "from config_email import connection_email, host, port, login, password\n",
    "from messages.messages import messages\n",
    "import random\n",
    "\n",
    "emails = {'Esther':'estherlira12@yahoo.com',\n",
    "          'Guilherme':'guilhermelima.rp@gmail.com',\n",
    "          'Bianca':'biancagoferrao@gmail.com',\n",
    "          'Kenzo':'kenzomelowaki@gmail.com',\n",
    "          'Luis':'timoteootavioluis@gmail.com',\n",
    "          'Maria':'maria@gmail.com',\n",
    "          'Heloisa': 'heloisa_ari7@usp.br',\n",
    "          'Giovanna': \"gimasiero@hotmail.com\",\n",
    "          'Roberta':'roberta.moraes@estudante.ufscar.br',\n",
    "          'Matheus':'martinsgomes.cso19@gmail.com',\n",
    "          'Isabelle':'isabelledomingues150@gmail.com',\n",
    "          'Salsinha':\"guilhermelima.rp@gmail.com\"}\n",
    "\n",
    "forbidden = [('Heloisa', 'Roberta'), ('Giovana', 'Bianca'), ('Giovana', 'Roberta'), \n",
    "     ('Bianca', 'Isabelle'), ('Bianca', 'Maria'), ('Bianca','Giovana'), ('Isabelle', 'Maria'), \n",
    "     ('Isabelle', 'Bianca'), ('Isabelle', 'Roberta'), ('Maria', 'Bianca'), ('Maria', 'Isabelle'), \n",
    "     ('Maria', 'Roberta'), ('Roberta', 'Maria'), ('Roberta', 'Isabelle'), ('Roberta', 'Heloisa'),\n",
    "     ('Roberta', 'Matheus'), ('Roberta', 'Giovana')]\n",
    "\n",
    "count = 1\n",
    "lista_fixa_amigos = {}\n",
    "for person in emails:\n",
    "    lista_fixa_amigos[person] = count\n",
    "    count+=1\n",
    "\n",
    "lista_de_sorteio = list(emails.keys())\n",
    "\n",
    "dict_sorteio = {}\n",
    "for amigo in lista_fixa_amigos:\n",
    "    flag_repeat = False\n",
    "    \n",
    "    while flag_repeat == False:\n",
    "        amigo_secreto = random.choice(lista_de_sorteio)\n",
    "        if lista_fixa_amigos[amigo] != lista_fixa_amigos[amigo_secreto] and (amigo,amigo_secreto) not in forbidden:\n",
    "            flag_repeat = True\n",
    "        else:\n",
    "            flag_repeat = False\n",
    "            \n",
    "        \n",
    "    lista_de_sorteio.remove(amigo_secreto)\n",
    "    dict_sorteio.update({amigo:amigo_secreto})\n",
    "\n",
    "\n",
    "for person in emails:\n",
    "    server = connection_email(host, port, login, password)\n",
    "    final_message = messages[person].format(dict_sorteio[person])\n",
    "    send_email(server, login, ['guilhermelima.rp@gmail.com'], \"CONVITE PARA AMIGO SECRETO TUDO EM CAPS LOCK FODA-SE\",final_message)\n",
    "\n"
   ]
  },
  {
   "cell_type": "code",
   "execution_count": 2,
   "id": "representative-matrix",
   "metadata": {},
   "outputs": [
    {
     "name": "stdout",
     "output_type": "stream",
     "text": [
      "Authentication failed. Check credentials in config folder:  (534, b'5.7.9 Application-specific password required. Learn more at\\n5.7.9  https://support.google.com/mail/?p=InvalidSecondFactor a1-20020a656041000000b005891f3af36asm8727153pgp.87 - gsmtp')\n"
     ]
    }
   ],
   "source": [
    " server = connection_email(host, port, login, password)"
   ]
  },
  {
   "cell_type": "code",
   "execution_count": null,
   "id": "homeless-addition",
   "metadata": {},
   "outputs": [],
   "source": [
    "dict_sorteio['Guilherme']"
   ]
  },
  {
   "cell_type": "code",
   "execution_count": 2,
   "id": "latin-martial",
   "metadata": {},
   "outputs": [
    {
     "name": "stdout",
     "output_type": "stream",
     "text": [
      "estherlira12@yahoo.com\n",
      "guilhermelima.rp@gmail.com\n",
      "biancagoferrao@gmail.com\n",
      "kenzomelowaki@gmail.com\n",
      "timoteootavioluis@gmail.com\n",
      "maria@gmail.com\n",
      "heloisa_ari7@usp.br\n",
      "gimasiero@hotmail.com\n",
      "roberta.moraes@estudante.ufscar.br\n",
      "martinsgomes.cso19@gmail.com\n",
      "isabelledomingues150@gmail.com\n",
      "guilhermelima.rp@gmail.com\n"
     ]
    }
   ],
   "source": [
    "for email in emails:\n",
    "    print(emails[email])"
   ]
  },
  {
   "cell_type": "code",
   "execution_count": null,
   "id": "roman-digit",
   "metadata": {},
   "outputs": [],
   "source": []
  }
 ],
 "metadata": {
  "kernelspec": {
   "display_name": "env_data",
   "language": "python",
   "name": "env_data"
  },
  "language_info": {
   "codemirror_mode": {
    "name": "ipython",
    "version": 3
   },
   "file_extension": ".py",
   "mimetype": "text/x-python",
   "name": "python",
   "nbconvert_exporter": "python",
   "pygments_lexer": "ipython3",
   "version": "3.8.5"
  }
 },
 "nbformat": 4,
 "nbformat_minor": 5
}
